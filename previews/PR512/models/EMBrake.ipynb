{
 "cells": [
  {
   "cell_type": "markdown",
   "source": [
    "# Electromechanic break\n",
    "\n",
    "\n",
    "## Model description\n",
    "\n",
    "The system is described by the linear differential equations:\n",
    "\n",
    "$$\n",
    "  \\begin{array}{lcl}\n",
    "  \\dot{x}(t) &=& Ax(t) + Bu(t),\\qquad u(t) \\in \\mathcal{U} \\\\\n",
    "  y(t) &=& C x(t)\n",
    "  \\end{array}\n",
    "$$\n",
    "\n",
    "There are two versions of this benchmark:\n",
    "\n",
    "- *(time-varying inputs):* The inputs can change arbitrarily over time: $\\forall t: u(t)\\in \\mathcal{U}$.\n",
    "\n",
    "- *(constant inputs):* The inputs are uncertain only in their initial value, and\n",
    "   constant over time: ``u(0)\\in \\mathcal{U}``, ``\\dot u (t)= 0``."
   ],
   "metadata": {}
  },
  {
   "outputs": [],
   "cell_type": "code",
   "source": [
    "using ReachabilityAnalysis, SparseArrays, JLD2"
   ],
   "metadata": {},
   "execution_count": 1
  },
  {
   "cell_type": "markdown",
   "source": [
    "adapt default LazySets tolerances"
   ],
   "metadata": {}
  },
  {
   "outputs": [
    {
     "output_type": "execute_result",
     "data": {
      "text/plain": "1.0e-13"
     },
     "metadata": {},
     "execution_count": 2
    }
   ],
   "cell_type": "code",
   "source": [
    "set_rtol(Float64, 1e-12)\n",
    "set_ztol(Float64, 1e-13)\n",
    "\n",
    "# Fixed parameters"
   ],
   "metadata": {},
   "execution_count": 2
  },
  {
   "cell_type": "markdown",
   "source": [
    "The model without parameter variation is defined below."
   ],
   "metadata": {}
  },
  {
   "outputs": [
    {
     "output_type": "execute_result",
     "data": {
      "text/plain": "embrake_no_pv (generic function with 1 method)"
     },
     "metadata": {},
     "execution_count": 3
    }
   ],
   "cell_type": "code",
   "source": [
    "function embrake_no_pv(; Tsample=1.E-4, ζ=1e-6, x0=0.05)\n",
    "    # model's constants\n",
    "    L = 1.e-3\n",
    "    KP = 10000.\n",
    "    KI = 1000.\n",
    "    R = 0.5\n",
    "    K = 0.02\n",
    "    drot = 0.1\n",
    "    i = 113.1167\n",
    "\n",
    "    # state variables: [I, x, xe, xc]\n",
    "    A = Matrix([-(R+K^2/drot)/L 0      KP/L  KI/L;\n",
    "                          K/i/drot      0      0      0;\n",
    "                          0             0      0      0;\n",
    "                          0             0      0      0])\n",
    "\n",
    "    EMbrake = @system(x' = Ax)\n",
    "\n",
    "    # initial conditions\n",
    "    I₀  = Singleton([0.0])\n",
    "    x₀  = Singleton([0.0])\n",
    "    xe₀ = Singleton([0.0])\n",
    "    xc₀ = Singleton([0.0])\n",
    "    X₀ = I₀ × x₀ × xe₀ × xc₀\n",
    "\n",
    "    # reset map\n",
    "    Ar = sparse([1, 2, 3, 4, 4], [1, 2, 2, 2, 4], [1., 1., -1., -Tsample, 1.], 4, 4)\n",
    "    br = sparsevec([3, 4], [x0, Tsample*x0], 4)\n",
    "    reset_map(X) = Ar * X + br\n",
    "\n",
    "    # hybrid system with clocked linear dynamics\n",
    "    ha = HACLD1(EMbrake, reset_map, Tsample, ζ)\n",
    "    return IVP(ha, X₀)\n",
    "end\n",
    "\n",
    "# Parameter variation"
   ],
   "metadata": {},
   "execution_count": 3
  },
  {
   "cell_type": "markdown",
   "source": [
    "The model with parameter variation described below consists of changing only one\n",
    "coefficient, which corresponds to the Flow* settings in [^SO15]."
   ],
   "metadata": {}
  },
  {
   "outputs": [
    {
     "output_type": "execute_result",
     "data": {
      "text/plain": "embrake_pv_1 (generic function with 1 method)"
     },
     "metadata": {},
     "execution_count": 4
    }
   ],
   "cell_type": "code",
   "source": [
    "function embrake_pv_1(; Tsample=1.E-4, ζ=1e-6, Δ=3.0, x0=0.05)\n",
    "    # model's constants\n",
    "    L = 1.e-3\n",
    "    KP = 10000.\n",
    "    KI = 1000.\n",
    "    R = 0.5\n",
    "    K = 0.02\n",
    "    drot = 0.1\n",
    "    i = 113.1167\n",
    "    p = 504. + (-Δ .. Δ)\n",
    "\n",
    "    # state variables: [I, x, xe, xc]\n",
    "    A = IntervalMatrix([-p            0      KP/L   KI/L;\n",
    "                        K/i/drot      0      0      0;\n",
    "                        0             0      0      0;\n",
    "                        0             0      0      0])\n",
    "\n",
    "    EMbrake = @system(x' = Ax)\n",
    "\n",
    "    # initial conditions\n",
    "    I₀  = Singleton([0.0])\n",
    "    x₀  = Singleton([0.0])\n",
    "    xe₀ = Singleton([0.0])\n",
    "    xc₀ = Singleton([0.0])\n",
    "    X₀ = I₀ × x₀ × xe₀ × xc₀\n",
    "\n",
    "    # reset map\n",
    "    Ar = sparse([1, 2, 3, 4, 4], [1, 2, 2, 2, 4], [1., 1., -1., -Tsample, 1.], 4, 4)\n",
    "    br = sparsevec([3, 4], [x0, Tsample*x0], 4)\n",
    "    reset_map(X) = Ar * X + br\n",
    "\n",
    "    # hybrid system with clocked linear dynamics\n",
    "    ha = HACLD1(EMbrake, reset_map, Tsample, ζ)\n",
    "    return IVP(ha, X₀)\n",
    "end\n",
    "\n",
    "# Extended parameter variation"
   ],
   "metadata": {},
   "execution_count": 4
  },
  {
   "cell_type": "markdown",
   "source": [
    "In the following model, considered in [...], we vary all constants by χ% with\n",
    "respect to their nominal values. The variation percentage defaults to 5%."
   ],
   "metadata": {}
  },
  {
   "outputs": [
    {
     "output_type": "execute_result",
     "data": {
      "text/plain": "embrake_pv_2 (generic function with 1 method)"
     },
     "metadata": {},
     "execution_count": 5
    }
   ],
   "cell_type": "code",
   "source": [
    "function embrake_pv_2(; Tsample=1.E-4, ζ=1e-6, x0=0.05, χ=5.0)\n",
    "    # model's constants\n",
    "    Δ = -χ/100 .. χ/100\n",
    "    L = 1.e-3 * (1 + Δ)\n",
    "    KP = 10000. * (1 + Δ)\n",
    "    KI = 1000. * (1 + Δ)\n",
    "    R = 0.5 * (1 + Δ)\n",
    "    K = 0.02 * (1 + Δ)\n",
    "    drot = 0.1 * (1 + Δ)\n",
    "    i = 113.1167 * (1 + Δ)\n",
    "\n",
    "    # state variables: [I, x, xe, xc]\n",
    "    A = IntervalMatrix([-(R+K^2/drot)/L 0      KP/L  KI/L;\n",
    "                          K/i/drot      0      0      0;\n",
    "                          0             0      0      0;\n",
    "                          0             0      0      0])\n",
    "\n",
    "    EMbrake = @system(x' = Ax)\n",
    "\n",
    "    # initial conditions\n",
    "    I₀  = Singleton([0.0])\n",
    "    x₀  = Singleton([0.0])\n",
    "    xe₀ = Singleton([0.0])\n",
    "    xc₀ = Singleton([0.0])\n",
    "    X₀ = I₀ × x₀ × xe₀ × xc₀\n",
    "\n",
    "    # reset map\n",
    "    Ar = sparse([1, 2, 3, 4, 4], [1, 2, 2, 2, 4], [1., 1., -1., -Tsample, 1.], 4, 4)\n",
    "    br = sparsevec([3, 4], [x0, Tsample*x0], 4)\n",
    "    reset_map(X) = Ar * X + br\n",
    "\n",
    "    # hybrid system with clocked linear dynamics\n",
    "    ha = HACLD1(EMbrake, reset_map, Tsample, ζ)\n",
    "    return IVP(ha, X₀)\n",
    "end"
   ],
   "metadata": {},
   "execution_count": 5
  },
  {
   "cell_type": "markdown",
   "source": [
    "## References"
   ],
   "metadata": {}
  },
  {
   "cell_type": "markdown",
   "source": [
    "[^SO15]: Strathmann, Thomas, and Jens Oehlerking. *Verifying Properties of an Electro-Mechanical Braking System.* ARCH CPSWeek. 2015."
   ],
   "metadata": {}
  },
  {
   "cell_type": "markdown",
   "source": [
    "[]:"
   ],
   "metadata": {}
  }
 ],
 "nbformat_minor": 3,
 "metadata": {
  "language_info": {
   "file_extension": ".jl",
   "mimetype": "application/julia",
   "name": "julia",
   "version": "1.5.4"
  },
  "kernelspec": {
   "name": "julia-1.5",
   "display_name": "Julia 1.5.4",
   "language": "julia"
  }
 },
 "nbformat": 4
}

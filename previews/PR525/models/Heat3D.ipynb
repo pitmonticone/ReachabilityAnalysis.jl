{
 "cells": [
  {
   "cell_type": "markdown",
   "source": [
    "# Heat PDE\n",
    "\n",
    "\n",
    "## Model description\n",
    "\n",
    "The system is described by the linear differential equations:\n",
    "\n",
    "$$\n",
    "  \\begin{array}{lcl}\n",
    "  \\dot{x}(t) &=& Ax(t) + Bu(t),\\qquad u(t) \\in \\mathcal{U} \\\\\n",
    "  y(t) &=& C x(t)\n",
    "  \\end{array}\n",
    "$$\n",
    "\n",
    "There are two versions of this benchmark:\n",
    "\n",
    "- *(time-varying inputs):* The inputs can change arbitrarily over time: $\\forall t: u(t)\\in \\mathcal{U}$.\n",
    "\n",
    "- *(constant inputs):* The inputs are uncertain only in their initial value, and\n",
    "   constant over time: ``u(0)\\in \\mathcal{U}``, ``\\dot u (t)= 0``."
   ],
   "metadata": {}
  },
  {
   "outputs": [
    {
     "output_type": "execute_result",
     "data": {
      "text/plain": "\"/home/runner/work/ReachabilityAnalysis.jl/ReachabilityAnalysis.jl/examples/Heat3D/HEAT01.jld2\""
     },
     "metadata": {},
     "execution_count": 1
    }
   ],
   "cell_type": "code",
   "source": [
    "using ReachabilityAnalysis, SparseArrays, JLD2\n",
    "\n",
    "examples_dir = normpath(@__DIR__, \"..\", \"..\", \"..\", \"examples\")\n",
    "HEAT01_path = joinpath(examples_dir, \"Heat3D\", \"HEAT01.jld2\")"
   ],
   "metadata": {},
   "execution_count": 1
  }
 ],
 "nbformat_minor": 3,
 "metadata": {
  "language_info": {
   "file_extension": ".jl",
   "mimetype": "application/julia",
   "name": "julia",
   "version": "1.5.4"
  },
  "kernelspec": {
   "name": "julia-1.5",
   "display_name": "Julia 1.5.4",
   "language": "julia"
  }
 },
 "nbformat": 4
}
